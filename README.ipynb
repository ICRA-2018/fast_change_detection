{
 "cells": [
  {
   "cell_type": "markdown",
   "metadata": {},
   "source": [
    "# Fast Change Detection\n",
    "<a href=\"#roslab-run\"><img src=\"https://img.shields.io/badge/ROSLab-run-brightgreen.svg\"></a>\n",
    "\n",
    "## Description\n",
    "\n",
    "The program allows to identify, in real-time, changes on a 3D model from a sequence of images.\n",
    "\n",
    "The idea is to first detect inconsistencies between pairs of images by reprojecting an image onto another one by passing through the 3D model. Ambiguities about possible inconsistencies resulting from this process are then resolved by combining multiple images. Finally, the 3D location of the change is estimated by projecting in 3D these inconsistencies.\n",
    "\n",
    "Check out the video:\n",
    "\n",
    "[![Fast Change Detection Video](http://img.youtube.com/vi/DEkOYf4Zzh4/0.jpg)](https://www.youtube.com/watch?v=DEkOYf4Zzh4&feature=youtu.be \"Fast Change Detection Video\")\n",
    "\n",
    "For further details, see the paper [\"Fast Image-Based Geometric Change Detection Given a 3D Model\"](http://www.ipb.uni-bonn.de/pdfs/palazzolo2018icra.pdf).\n",
    "\n",
    "## Key contributors\n",
    "\n",
    "Emanuele Palazzolo (emanuele.palazzolo@uni-bonn.de)\n",
    "\n",
    "## Key assumptions\n",
    "\n",
    "* The input images are calibrated and registered w.r.t. the 3D model\n",
    "\n",
    "## Related publications\n",
    "\n",
    "If you use this code for your research, please cite:\n",
    "\n",
    "E. Palazzolo and C. Stachniss, “Fast Image-Based Geometric Change Detection Given a 3D Model”, in _Proceedings of the IEEE Int. Conf. on Robotics & Automation (ICRA)_, 2018. [PDF](http://www.ipb.uni-bonn.de/pdfs/palazzolo2018icra.pdf)\n",
    "\n",
    "BibTeX:"
   ]
  },
  {
   "cell_type": "code",
   "execution_count": null,
   "metadata": {},
   "outputs": [],
   "source": [
    "@InProceedings{palazzolo2018icra,\n",
    "Title = {{Fast Image-Based Geometric Change Detection Given a 3D Model}},\n",
    "Author = {E. Palazzolo and C. Stachniss},\n",
    "Booktitle = {Proceedings of the IEEE Int. Conf. on Robotics & Automation (ICRA)},\n",
    "Year = {2018}\n",
    "}"
   ]
  },
  {
   "cell_type": "markdown",
   "metadata": {},
   "source": [
    "## Dependencies\n",
    "\n",
    "* catkin\n",
    "* Eigen >= 3.2\n",
    "* boost >= 1.54\n",
    "* OpenCV >= 2.4\n",
    "* QT >= 5.2\n",
    "* OpenGL >= 3.3\n",
    "* [glow](https://github.com/jbehley/glow) (catkin package)\n",
    "* (optional) Doxygen >= 1.8.11\n",
    "\n",
    "## Installation guide\n",
    "\n",
    "On Ubuntu 16.04, most of the dependencies can be installed from the package manager:"
   ]
  },
  {
   "cell_type": "code",
   "execution_count": null,
   "metadata": {},
   "outputs": [],
   "source": [
    "%%bash\n",
    "sudo apt install git libeigen3-dev libboost-all-dev qtbase5-dev libglew-dev libopencv-dev catkin"
   ]
  },
  {
   "cell_type": "markdown",
   "metadata": {},
   "source": [
    "Additionally, make sure you have [catkin-tools](https://catkin-tools.readthedocs.io/en/latest/) and the [fetch](https://github.com/Photogrammetry-Robotics-Bonn/catkin_tools_fetch) verb installed:"
   ]
  },
  {
   "cell_type": "code",
   "execution_count": null,
   "metadata": {},
   "outputs": [],
   "source": [
    "%%bash\n",
    "sudo apt install python-pip\n",
    "sudo pip install catkin_tools catkin_tools_fetch empy"
   ]
  },
  {
   "cell_type": "markdown",
   "metadata": {},
   "source": [
    "Finally, if you also want to build the documentation you need Doxygen installed (tested only with Doxygen 1.8.11):"
   ]
  },
  {
   "cell_type": "code",
   "execution_count": null,
   "metadata": {},
   "outputs": [],
   "source": [
    "%%bash\n",
    "sudo apt install doxygen"
   ]
  },
  {
   "cell_type": "markdown",
   "metadata": {},
   "source": [
    "If you do not have a catkin workspace already, create one:"
   ]
  },
  {
   "cell_type": "code",
   "execution_count": null,
   "metadata": {},
   "outputs": [],
   "source": [
    "%%bash\n",
    "cd\n",
    "mkdir catkin_ws\n",
    "cd catkin_ws\n",
    "mkdir src\n",
    "catkin init\n",
    "cd src\n",
    "git clone https://github.com/ros/catkin.git"
   ]
  },
  {
   "cell_type": "markdown",
   "metadata": {},
   "source": [
    "Clone the repository in your catkin workspace:"
   ]
  },
  {
   "cell_type": "code",
   "execution_count": null,
   "metadata": {},
   "outputs": [],
   "source": [
    "%%bash\n",
    "cd ~/catkin_ws/src\n",
    "git clone https://github.com/Photogrammetry-Robotics-Bonn/fast_change_detection.git"
   ]
  },
  {
   "cell_type": "markdown",
   "metadata": {},
   "source": [
    "Download the additional dependencies:"
   ]
  },
  {
   "cell_type": "code",
   "execution_count": null,
   "metadata": {},
   "outputs": [],
   "source": [
    "%%bash\n",
    "catkin deps fetch"
   ]
  },
  {
   "cell_type": "markdown",
   "metadata": {},
   "source": [
    "Then, build the project:"
   ]
  },
  {
   "cell_type": "code",
   "execution_count": null,
   "metadata": {},
   "outputs": [],
   "source": [
    "%%bash\n",
    "catkin build fast_change_detection"
   ]
  },
  {
   "cell_type": "markdown",
   "metadata": {},
   "source": [
    "Now the project root directory (e.g. `~/catkin_ws/src/fast_change_detection`) should contain a `bin` directory containing an example binary and, if Doxygen is installed, a `docs` directory containing the documentation.\n",
    "\n",
    "## How to use it\n",
    "\n",
    "The `ChangeDetector` class is the core of the program. Its constructor requires\n",
    "the 3D model of the environment and the options. Use the `AddImage` member function to\n",
    "add an image and compute the inconsistencies with the others. Use the `GetChanges`\n",
    "member function to compute and get the changes in the form of mean position and \n",
    "covariance of the points of the 3D regions.\n",
    "\n",
    "Refer to the documentation and to the source code for further details. An example\n",
    "that illustrates how to use the library is located in `src/example.cpp`.\n",
    "\n",
    "## Examples / datafiles\n",
    "\n",
    "After the build process, the `bin` directory in the project root directory (e.g. `~/catkin_ws/src/fast_change_detection`) will contain an example binary.\n",
    "To run it execute from the command line:"
   ]
  },
  {
   "cell_type": "code",
   "execution_count": null,
   "metadata": {},
   "outputs": [],
   "source": [
    "%%bash\n",
    "cd ~/catkin_ws/src/fast_change_detection/bin\n",
    "./fastcd_example DATASET_PATH"
   ]
  },
  {
   "cell_type": "markdown",
   "metadata": {},
   "source": [
    "where `DATASET_PATH` is the path to the directory of a dataset (e.g. `~/changedetection2017/statue`).\n",
    "Some example datasets can be found [here](http://www.ipb.uni-bonn.de/data/changedetection2017/).\n",
    "\n",
    "Alternatively, the `example` directory contains some scripts to immediately test the library.\n",
    "Make sure you have `wget` installed to download the dataset and `zip` to uncompress it:"
   ]
  },
  {
   "cell_type": "code",
   "execution_count": null,
   "metadata": {},
   "outputs": [],
   "source": [
    "%%bash\n",
    "sudo apt install wget zip"
   ]
  },
  {
   "cell_type": "markdown",
   "metadata": {},
   "source": [
    "Download and uncompress the dataset:"
   ]
  },
  {
   "cell_type": "code",
   "execution_count": null,
   "metadata": {},
   "outputs": [],
   "source": [
    "%%bash\n",
    "cd ~/catkin_ws/src/fast_change_detection/example\n",
    "./download_dataset.sh"
   ]
  },
  {
   "cell_type": "markdown",
   "metadata": {},
   "source": [
    "Execute the example program:"
   ]
  },
  {
   "cell_type": "code",
   "execution_count": null,
   "metadata": {},
   "outputs": [],
   "source": [
    "%%bash\n",
    "./run_example.sh"
   ]
  },
  {
   "cell_type": "markdown",
   "metadata": {},
   "source": [
    "A 3D visualization of the model will appear. The changes are represented by the blue ellipsoids.\n",
    "Rotate the view with the mouse while the right button is pressed. The keyboard is mapped as following:\n",
    "* W/A/S/D -> Move around\n",
    "* Space -> Move up vertically\n",
    "* C -> Move down vertically\n",
    "* Shift -> Keep pressed to move faster\n",
    "* 1-0 -> Teleport the camera to the pose of one of the first 10 cameras\n",
    "\n",
    "## License\n",
    "\n",
    "\n",
    "This project is licensed under the FreeBSD License. See the LICENSE.txt file for details.\n",
    "\n",
    "# ROSLab Run\n",
    "\n",
    "## Prerequisites:\n",
    "* [Docker](https://www.docker.com/)\n",
    "* [nvidia-docker](https://github.com/nvidia/nvidia-docker/wiki/Installation-(version-2.0))\n",
    "* Tested on Ubuntu Linux 16.04, Docker version 18.06.1-ce, NVIDIA Driver version 410.48.\n",
    "\n",
    "## 1. Clone the repository and build ROSLab image:"
   ]
  },
  {
   "cell_type": "code",
   "execution_count": null,
   "metadata": {},
   "outputs": [],
   "source": [
    "git clone https://github.com/ICRA-2018/fast_change_detection.git\n",
    "cd fast_change_detection\n",
    "./roslab_build"
   ]
  },
  {
   "cell_type": "markdown",
   "metadata": {},
   "source": [
    "## 2. Launch ROSLab image:"
   ]
  },
  {
   "cell_type": "code",
   "execution_count": null,
   "metadata": {},
   "outputs": [],
   "source": [
    "./roslab_run"
   ]
  },
  {
   "cell_type": "markdown",
   "metadata": {},
   "source": [
    "## 3. Open JupyterLab in your browser:\n",
    "[http://localhost:8888/lab/tree/README.ipynb](http://localhost:8888/lab/tree/README.ipynb)\n",
    "\n",
    "## 4. Run in JupyterLab:"
   ]
  },
  {
   "cell_type": "code",
   "execution_count": null,
   "metadata": {},
   "outputs": [],
   "source": [
    "cd ~/catkin_ws/src/fast-change-detection/bin"
   ]
  },
  {
   "cell_type": "code",
   "execution_count": null,
   "metadata": {},
   "outputs": [],
   "source": [
    "gunzip ../dataset/statue/model.obj.gz"
   ]
  },
  {
   "cell_type": "code",
   "execution_count": null,
   "metadata": {},
   "outputs": [],
   "source": [
    "./fastcd_example ../dataset/statue"
   ]
  },
  {
   "cell_type": "markdown",
   "metadata": {},
   "source": [
    "A 3D visualization of the model will appear. The changes are represented by the blue ellipsoids.\n",
    "Rotate the view with the mouse while the right button is pressed. The keyboard is mapped as following:\n",
    "* W/A/S/D -> Move around\n",
    "* Space -> Move up vertically\n",
    "* C -> Move down vertically\n",
    "* Shift -> Keep pressed to move faster\n",
    "* 1-0 -> Teleport the camera to the pose of one of the first 10 cameras"
   ]
  }
 ],

 "metadata": {
  "kernelspec": {
   "display_name": "Bash",
   "language": "bash",
   "name": "bash"
  },
  "language_info": {
   "codemirror_mode": "shell",
   "file_extension": ".sh",
   "mimetype": "text/x-sh",
   "name": "bash"
  }
 },
 "nbformat": 4,
 "nbformat_minor": 2
}
