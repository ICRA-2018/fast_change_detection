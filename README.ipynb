{
 "cells": [
  {
   "cell_type": "markdown",
   "metadata": {},
   "source": [
    "# Fast Change Detection\n",
    "\n",
    "## Description\n",
    "\n",
    "The program allows to identify, in real-time, changes on a 3D model from a sequence of images.\n",
    "\n",
    "The idea is to first detect inconsistencies between pairs of images by reprojecting an image onto another one by passing through the 3D model. Ambiguities about possible inconsistencies resulting from this process are then resolved by combining multiple images. Finally, the 3D location of the change is estimated by projecting in 3D these inconsistencies.\n",
    "\n",
    "Check out the video:\n",
    "\n",
    "[![Fast Change Detection Video](http://img.youtube.com/vi/DEkOYf4Zzh4/0.jpg)](https://www.youtube.com/watch?v=DEkOYf4Zzh4&feature=youtu.be \"Fast Change Detection Video\")\n",
    "\n",
    "For further details, see the paper [\"Fast Image-Based Geometric Change Detection Given a 3D Model\"](http://www.ipb.uni-bonn.de/pdfs/palazzolo2018icra.pdf).\n",
    "\n",
    "## Key contributors\n",
    "\n",
    "Emanuele Palazzolo (emanuele.palazzolo@uni-bonn.de)\n",
    "\n",
    "## Key assumptions\n",
    "\n",
    "* The input images are calibrated and registered w.r.t. the 3D model\n",
    "\n",
    "## Related publications\n",
    "\n",
    "If you use this code for your research, please cite:\n",
    "\n",
    "E. Palazzolo and C. Stachniss, “Fast Image-Based Geometric Change Detection Given a 3D Model”, in _Proceedings of the IEEE Int. Conf. on Robotics & Automation (ICRA)_, 2018. [PDF](http://www.ipb.uni-bonn.de/pdfs/palazzolo2018icra.pdf)\n",
    "\n",
    "BibTeX:\n",
    "```\n",
    "@InProceedings{palazzolo2018icra,\n",
    "Title = {{Fast Image-Based Geometric Change Detection Given a 3D Model}},\n",
    "Author = {E. Palazzolo and C. Stachniss},\n",
    "Booktitle = {Proceedings of the IEEE Int. Conf. on Robotics & Automation (ICRA)},\n",
    "Year = {2018}\n",
    "}\n",
    "```\n",
    "## Example"
   ]
  },
  {
   "cell_type": "code",
   "execution_count": null,
   "metadata": {},
   "outputs": [],
   "source": [
    "cd ~/catkin_ws/src/fast-change-detection/bin"
   ]
  },
  {
   "cell_type": "code",
   "execution_count": null,
   "metadata": {},
   "outputs": [],
   "source": [
    "gunzip ../dataset/statue/model.obj.gz"
   ]
  },
  {
   "cell_type": "code",
   "execution_count": null,
   "metadata": {},
   "outputs": [],
   "source": [
    "./fastcd_example ../dataset/statue"
   ]
  },
  {
   "cell_type": "markdown",
   "metadata": {},
   "source": [
    "A 3D visualization of the model will appear. The changes are represented by the blue ellipsoids.\n",
    "Rotate the view with the mouse while the right button is pressed. The keyboard is mapped as following:\n",
    "* W/A/S/D -> Move around\n",
    "* Space -> Move up vertically\n",
    "* C -> Move down vertically\n",
    "* Shift -> Keep pressed to move faster\n",
    "* 1-0 -> Teleport the camera to the pose of one of the first 10 cameras"
   ]
  }
 ],
 "metadata": {
  "kernelspec": {
   "display_name": "Bash",
   "language": "bash",
   "name": "bash"
  },
  "language_info": {
   "codemirror_mode": "shell",
   "file_extension": ".sh",
   "mimetype": "text/x-sh",
   "name": "bash"
  }
 },
 "nbformat": 4,
 "nbformat_minor": 2
}


